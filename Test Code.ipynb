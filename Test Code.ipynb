{
 "cells": [
  {
   "cell_type": "code",
   "execution_count": 25,
   "id": "76022700-4c84-4643-8258-548ee199c4db",
   "metadata": {
    "tags": []
   },
   "outputs": [],
   "source": [
    "# Dependencies and Setup\n",
    "import matplotlib.pyplot as plt\n",
    "import pandas as pd\n",
    "import scipy.stats as st\n",
    "from pprint import pprint\n",
    "import requests"
   ]
  },
  {
   "cell_type": "code",
   "execution_count": 26,
   "id": "cca85654-71cb-453b-a12a-f8523e687656",
   "metadata": {},
   "outputs": [
    {
     "name": "stdout",
     "output_type": "stream",
     "text": [
      "{'zip_code': '90210', 'name': 'Beverly Hills', 'type': 'Standard', 'county': 'Los Angeles County', 'area_codes': '310,424 ', 'population': '19,627', 'racial_majority': 'White - 86.31%', 'public_school_racial_majority': 'White - 69.75%', 'unemployment_rate': '5.1%', 'median_household_income': '$154,740', 'avg_adjusted_gross_income': '$648,340', 'school_test_performance': '', 'avg_commute_time': '', 'time_zone': 'Pacific Daylight Time', 'elevation_range': '', 'area': '11 Square Miles', 'coordinates': '34.10228348,-118.41467285'}\n"
     ]
    }
   ],
   "source": [
    "url = \"https://zip-code-master.p.rapidapi.com/summary/90210\"\n",
    "\n",
    "headers = {\n",
    "\t\"X-RapidAPI-Key\": \"558adedba3msh9b5c4fc48b9c426p17c2a9jsnae5efc3a2061\",\n",
    "\t\"X-RapidAPI-Host\": \"zip-code-master.p.rapidapi.com\"\n",
    "}\n",
    "\n",
    "response = requests.get(url, headers=headers)\n",
    "\n",
    "print(response.json())"
   ]
  },
  {
   "cell_type": "code",
   "execution_count": 28,
   "id": "78c600d5-ecb8-478e-b09c-07bb75512ad0",
   "metadata": {
    "tags": []
   },
   "outputs": [
    {
     "name": "stdout",
     "output_type": "stream",
     "text": [
      "                                             summary population  \\\n",
      "0  {'zip_code': '78741', 'name': 'Austin', 'type'...         {}   \n",
      "\n",
      "                                           ethnicity  \\\n",
      "0  {'White': '27,297,46.64%', 'Black': '5,124,8.7...   \n",
      "\n",
      "                                    school_ethnicity  \\\n",
      "0  {'White': '85,3%', 'Black': '223,7.88%', 'Hisp...   \n",
      "\n",
      "                                           education school income  \\\n",
      "0  {'Less Than 1 Year of College': '1,054,6.22%',...     {}     {}   \n",
      "\n",
      "  real_estate employment    cities  \\\n",
      "0          {}         {}  [Austin]   \n",
      "\n",
      "                           adjacent_zip_codes gardening climate cbsa  \\\n",
      "0  [78701, 78702, 78704, 78721, 78742, 78744]        {}      {}   {}   \n",
      "\n",
      "                                           time_zone  \n",
      "0  {'Time Zone': 'Central Daylight Time', 'IANA T...  \n"
     ]
    }
   ],
   "source": [
    "def get_data_78741(zip_codes):\n",
    "    base_url = \"https://zip-code-master.p.rapidapi.com/detail/\"\n",
    "\n",
    "    headers = {\n",
    "        \"X-RapidAPI-Key\": \"558adedba3msh9b5c4fc48b9c426p17c2a9jsnae5efc3a2061\",\n",
    "        \"X-RapidAPI-Host\": \"zip-code-master.p.rapidapi.com\"\n",
    "    }\n",
    "\n",
    "    data_78741 = []\n",
    "\n",
    "    for zip_code in zip_codes:\n",
    "        url = base_url + str(zip_code)\n",
    "        response = requests.get(url, headers=headers)\n",
    "        data = response.json()\n",
    "        data_78741.append(data)\n",
    "\n",
    "    return data_78741\n",
    "\n",
    "# List of zip codes to fetch data for\n",
    "zip_codes1 = [78741]\n",
    "\n",
    "# Call the function to get data for the specified zip codes\n",
    "data_78741 = get_data_78741(zip_codes1)\n",
    "\n",
    "# Create a pandas DataFrame from the API data\n",
    "zc_78741 = pd.DataFrame(data_78741)\n",
    "\n",
    "# Now you have the DataFrame zc_78741 with data for zip code 78741\n",
    "print(zc_78741)"
   ]
  },
  {
   "cell_type": "code",
   "execution_count": 16,
   "id": "034cb656-894f-42b8-8cb5-af0fbdca944f",
   "metadata": {
    "tags": []
   },
   "outputs": [
    {
     "name": "stdout",
     "output_type": "stream",
     "text": [
      "Data for Zip Code 78729:\n",
      "{'summary': {'zip_code': '78729', 'name': 'Austin', 'type': 'Standard', 'county': 'Williamson County', 'state': '', 'area_codes': '512,737 ', 'population': '30,907', 'racial_majority': 'White - 64.04%', 'public_school_racial_majority': 'White - 36.50%', 'unemployment_rate': '2.7%', 'median_household_income': '$76,615', 'avg_adjusted_gross_income': '$69,750', 'school_test_performance': '', 'avg_commute_time': '', 'time_zone': 'Central Daylight Time', 'elevation_range': '', 'area': '9 Square Miles', 'coordinates': '30.45837784,-97.75759125'}, 'population': {}, 'ethnicity': {'White': '21,547,64.04%', 'Black': '1,896,5.63%', 'Hispanic': '6,183,18.38%', 'Asian': '3,914,11.63%', 'Native American': '107,0.32%', 'Hawaiian/Pac. Islander': '0,0%'}, 'school_ethnicity': {'White': '1,974,38.61%', 'Black': '687,13.44%', 'Hispanic': '1,583,30.96%', 'Asian': '841,16.45%', 'Native American': '23,0.45%', 'Hawaiian/Pac. Islander': '5,0.1%'}, 'education': {'Less Than 1 Year of College': '1,399,7.73%', 'Bachelor Degree': '6,122,33.81%', 'High School Diploma': '2,754,15.21%', 'No High School Diploma': '162,0.89%', 'GED or Alternate': '252,1.39%', '1 or More Years of College': '3,790,20.93%', 'Associates Degree': '1,343,7.42%', 'Masters Degree': '1,690,9.33%', 'Professional Degree': '420,2.32%', 'Doctorate Degree': '170,0.94%'}, 'school': {}, 'income': {}, 'real_estate': {}, 'employment': {}, 'cities': ['Austin'], 'adjacent_zip_codes': ['78681', '78717', '78727', '78728', '78750', '78759'], 'gardening': {}, 'climate': {}, 'cbsa': {}, 'time_zone': {'Time Zone': 'Central Daylight Time', 'IANA Time Zone': 'America/Chicago', 'Follows DST': '', 'GMT Difference': ''}}\n",
      "\n"
     ]
    }
   ],
   "source": [
    "def get_zip_code_data(zip_codes):\n",
    "    base_url = \"https://zip-code-master.p.rapidapi.com/detail/\"\n",
    "\n",
    "    headers = {\n",
    "        \"X-RapidAPI-Key\": \"558adedba3msh9b5c4fc48b9c426p17c2a9jsnae5efc3a2061\",\n",
    "        \"X-RapidAPI-Host\": \"zip-code-master.p.rapidapi.com\"\n",
    "    }\n",
    "\n",
    "    for zip_code in zip_codes:\n",
    "        url = base_url + str(zip_code)\n",
    "        response = requests.get(url, headers=headers)\n",
    "        data = response.json()\n",
    "        print(f\"Data for Zip Code {zip_code}:\")\n",
    "        print(data)\n",
    "        print()\n",
    "\n",
    "# List of zip codes to fetch data for\n",
    "zip_codes2 = [78729]\n",
    "\n",
    "# Call the function to get data for the specified zip codes\n",
    "get_zip_code_data(zip_codes2)"
   ]
  },
  {
   "cell_type": "code",
   "execution_count": 17,
   "id": "12e65208-217c-4d68-ad71-91708fceee4a",
   "metadata": {
    "tags": []
   },
   "outputs": [
    {
     "name": "stdout",
     "output_type": "stream",
     "text": [
      "Data for Zip Code 78748:\n",
      "{'summary': {'zip_code': '78748', 'name': 'Austin', 'type': 'Standard', 'county': 'Travis County', 'state': '', 'area_codes': '512,737 ', 'population': '53,501', 'racial_majority': 'White - 61.39%', 'public_school_racial_majority': 'Hispanic - 64.99%', 'unemployment_rate': '2.7%', 'median_household_income': '$89,480', 'avg_adjusted_gross_income': '$68,540', 'school_test_performance': '', 'avg_commute_time': '', 'time_zone': 'Central Daylight Time', 'elevation_range': '', 'area': '14 Square Miles', 'coordinates': '30.16291237,-97.82289886'}, 'population': {}, 'ethnicity': {'White': '40,507,61.39%', 'Black': '3,276,4.96%', 'Hispanic': '19,473,29.51%', 'Asian': '2,454,3.72%', 'Native American': '278,0.42%', 'Hawaiian/Pac. Islander': '0,0%'}, 'school_ethnicity': {'White': '1,672,23.92%', 'Black': '376,5.38%', 'Hispanic': '4,705,67.32%', 'Asian': '209,2.99%', 'Native American': '15,0.21%', 'Hawaiian/Pac. Islander': '12,0.17%'}, 'education': {'Less Than 1 Year of College': '1,802,7.12%', 'Bachelor Degree': '7,765,30.66%', 'High School Diploma': '4,341,17.14%', 'No High School Diploma': '399,1.58%', 'GED or Alternate': '761,3.01%', '1 or More Years of College': '5,193,20.51%', 'Associates Degree': '1,972,7.79%', 'Masters Degree': '2,572,10.16%', 'Professional Degree': '275,1.09%', 'Doctorate Degree': '238,0.94%'}, 'school': {}, 'income': {}, 'real_estate': {}, 'employment': {}, 'cities': ['Austin', 'Manchaca', 'San Leanna', 'Shady Hollow'], 'adjacent_zip_codes': ['78652', '78739', '78744', '78745', '78747', '78749'], 'gardening': {}, 'climate': {}, 'cbsa': {}, 'time_zone': {'Time Zone': 'Central Daylight Time', 'IANA Time Zone': 'America/Chicago', 'Follows DST': '', 'GMT Difference': ''}}\n",
      "\n"
     ]
    }
   ],
   "source": [
    "def get_zip_code_data(zip_codes):\n",
    "    base_url = \"https://zip-code-master.p.rapidapi.com/detail/\"\n",
    "\n",
    "    headers = {\n",
    "        \"X-RapidAPI-Key\": \"558adedba3msh9b5c4fc48b9c426p17c2a9jsnae5efc3a2061\",\n",
    "        \"X-RapidAPI-Host\": \"zip-code-master.p.rapidapi.com\"\n",
    "    }\n",
    "\n",
    "    for zip_code in zip_codes:\n",
    "        url = base_url + str(zip_code)\n",
    "        response = requests.get(url, headers=headers)\n",
    "        data = response.json()\n",
    "        print(f\"Data for Zip Code {zip_code}:\")\n",
    "        print(data)\n",
    "        print()\n",
    "\n",
    "# List of zip codes to fetch data for\n",
    "zip_codes3 = [78748]\n",
    "\n",
    "# Call the function to get data for the specified zip codes\n",
    "get_zip_code_data(zip_codes3)"
   ]
  },
  {
   "cell_type": "code",
   "execution_count": 18,
   "id": "63755f46-a211-4327-b303-3e51e4a94435",
   "metadata": {
    "tags": []
   },
   "outputs": [
    {
     "name": "stdout",
     "output_type": "stream",
     "text": [
      "Data for Zip Code 78724:\n",
      "{'summary': {'zip_code': '78724', 'name': 'Austin', 'type': 'Standard', 'county': 'Travis County', 'state': '', 'area_codes': '512,737 ', 'population': '25,936', 'racial_majority': 'Hispanic - 54.74%', 'public_school_racial_majority': 'Hispanic - 63.73%', 'unemployment_rate': '2.7%', 'median_household_income': '$58,631', 'avg_adjusted_gross_income': '$41,250', 'school_test_performance': '', 'avg_commute_time': '', 'time_zone': 'Central Daylight Time', 'elevation_range': '', 'area': '25 Square Miles', 'coordinates': '30.29529381,-97.61280060'}, 'population': {}, 'ethnicity': {'White': '7,706,25.12%', 'Black': '5,717,18.63%', 'Hispanic': '16,746,54.58%', 'Asian': '156,0.51%', 'Native American': '269,0.88%', 'Hawaiian/Pac. Islander': '88,0.29%'}, 'school_ethnicity': {'White': '1,239,14.15%', 'Black': '1,384,15.81%', 'Hispanic': '5,718,65.31%', 'Asian': '381,4.35%', 'Native American': '27,0.31%', 'Hawaiian/Pac. Islander': '6,0.07%'}, 'education': {'Less Than 1 Year of College': '748,10.41%', 'Bachelor Degree': '828,11.52%', 'High School Diploma': '2,638,36.72%', 'No High School Diploma': '266,3.7%', 'GED or Alternate': '529,7.36%', '1 or More Years of College': '1,205,16.77%', 'Associates Degree': '655,9.12%', 'Masters Degree': '234,3.26%', 'Professional Degree': '59,0.82%', 'Doctorate Degree': '18,0.25%'}, 'school': {}, 'income': {}, 'real_estate': {}, 'employment': {}, 'cities': ['Austin', 'Hornsby Bend'], 'adjacent_zip_codes': ['78653', '78721', '78723', '78725', '78754'], 'gardening': {}, 'climate': {}, 'cbsa': {}, 'time_zone': {'Time Zone': 'Central Daylight Time', 'IANA Time Zone': 'America/Chicago', 'Follows DST': '', 'GMT Difference': ''}}\n",
      "\n"
     ]
    }
   ],
   "source": [
    "def get_zip_code_data(zip_codes):\n",
    "    base_url = \"https://zip-code-master.p.rapidapi.com/detail/\"\n",
    "\n",
    "    headers = {\n",
    "        \"X-RapidAPI-Key\": \"558adedba3msh9b5c4fc48b9c426p17c2a9jsnae5efc3a2061\",\n",
    "        \"X-RapidAPI-Host\": \"zip-code-master.p.rapidapi.com\"\n",
    "    }\n",
    "\n",
    "    for zip_code in zip_codes:\n",
    "        url = base_url + str(zip_code)\n",
    "        response = requests.get(url, headers=headers)\n",
    "        data = response.json()\n",
    "        print(f\"Data for Zip Code {zip_code}:\")\n",
    "        print(data)\n",
    "        print()\n",
    "\n",
    "# List of zip codes to fetch data for\n",
    "zip_codes4 = [78724]\n",
    "\n",
    "# Call the function to get data for the specified zip codes\n",
    "get_zip_code_data(zip_codes4)"
   ]
  },
  {
   "cell_type": "code",
   "execution_count": 19,
   "id": "337dbd8a-ee0a-4955-9a31-60e6197df4eb",
   "metadata": {
    "tags": []
   },
   "outputs": [
    {
     "name": "stdout",
     "output_type": "stream",
     "text": [
      "Data for Zip Code 78733:\n",
      "{'summary': {'zip_code': '78733', 'name': 'Austin', 'type': 'Standard', 'county': 'Travis County', 'state': '', 'area_codes': '512,737 ', 'population': '9,500', 'racial_majority': 'White - 72.92%', 'public_school_racial_majority': 'White - 59.85%', 'unemployment_rate': '2.7%', 'median_household_income': '$187,778', 'avg_adjusted_gross_income': '$340,180', 'school_test_performance': '', 'avg_commute_time': '', 'time_zone': 'Central Daylight Time', 'elevation_range': '', 'area': '12 Square Miles', 'coordinates': '30.32319450,-97.87820435'}, 'population': {}, 'ethnicity': {'White': '6,951,72.92%', 'Black': '100,1.05%', 'Hispanic': '914,9.59%', 'Asian': '1,567,16.44%', 'Native American': '0,0%', 'Hawaiian/Pac. Islander': '0,0%'}, 'school_ethnicity': {'White': '854,62.84%', 'Black': '15,1.1%', 'Hispanic': '177,13.02%', 'Asian': '312,22.96%', 'Native American': '1,0.07%', 'Hawaiian/Pac. Islander': '0,0%'}, 'education': {'Less Than 1 Year of College': '112,1.89%', 'Bachelor Degree': '2,034,34.31%', 'High School Diploma': '465,7.84%', 'No High School Diploma': '15,0.25%', 'GED or Alternate': '68,1.15%', '1 or More Years of College': '753,12.7%', 'Associates Degree': '293,4.94%', 'Masters Degree': '1,377,23.23%', 'Professional Degree': '536,9.04%', 'Doctorate Degree': '269,4.54%'}, 'school': {}, 'income': {}, 'real_estate': {}, 'employment': {}, 'cities': ['Austin', 'Bee Cave'], 'adjacent_zip_codes': ['78730', '78732', '78735', '78736', '78738', '78746'], 'gardening': {}, 'climate': {}, 'cbsa': {}, 'time_zone': {'Time Zone': 'Central Daylight Time', 'IANA Time Zone': 'America/Chicago', 'Follows DST': '', 'GMT Difference': ''}}\n",
      "\n"
     ]
    }
   ],
   "source": [
    "def get_zip_code_data(zip_codes):\n",
    "    base_url = \"https://zip-code-master.p.rapidapi.com/detail/\"\n",
    "\n",
    "    headers = {\n",
    "        \"X-RapidAPI-Key\": \"558adedba3msh9b5c4fc48b9c426p17c2a9jsnae5efc3a2061\",\n",
    "        \"X-RapidAPI-Host\": \"zip-code-master.p.rapidapi.com\"\n",
    "    }\n",
    "\n",
    "    for zip_code in zip_codes:\n",
    "        url = base_url + str(zip_code)\n",
    "        response = requests.get(url, headers=headers)\n",
    "        data = response.json()\n",
    "        print(f\"Data for Zip Code {zip_code}:\")\n",
    "        print(data)\n",
    "        print()\n",
    "\n",
    "# List of zip codes to fetch data for\n",
    "zip_codes5 = [78733]\n",
    "\n",
    "# Call the function to get data for the specified zip codes\n",
    "get_zip_code_data(zip_codes5)"
   ]
  },
  {
   "cell_type": "code",
   "execution_count": null,
   "id": "b0bb7a1b-bd24-4d1d-abf2-db59eb25c07f",
   "metadata": {},
   "outputs": [],
   "source": []
  }
 ],
 "metadata": {
  "kernelspec": {
   "display_name": "Python 3 (ipykernel)",
   "language": "python",
   "name": "python3"
  },
  "language_info": {
   "codemirror_mode": {
    "name": "ipython",
    "version": 3
   },
   "file_extension": ".py",
   "mimetype": "text/x-python",
   "name": "python",
   "nbconvert_exporter": "python",
   "pygments_lexer": "ipython3",
   "version": "3.10.9"
  }
 },
 "nbformat": 4,
 "nbformat_minor": 5
}
