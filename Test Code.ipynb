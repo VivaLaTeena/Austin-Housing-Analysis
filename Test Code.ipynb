{
 "cells": [
  {
   "cell_type": "code",
   "execution_count": 2,
   "id": "76022700-4c84-4643-8258-548ee199c4db",
   "metadata": {
    "tags": []
   },
   "outputs": [],
   "source": [
    "# Dependencies and Setup\n",
    "import matplotlib.pyplot as plt\n",
    "import pandas as pd\n",
    "import scipy.stats as st\n",
    "from pprint import pprint\n",
    "import requests"
   ]
  },
  {
   "cell_type": "code",
   "execution_count": 3,
   "id": "08194046-9e27-4cdb-b1cf-bfaa65169c01",
   "metadata": {
    "tags": []
   },
   "outputs": [
    {
     "name": "stdout",
     "output_type": "stream",
     "text": [
      "Data for Zip Code 78741:\n",
      "{'summary': {'zip_code': '78741', 'name': 'Austin', 'type': 'Standard', 'county': 'Travis County', 'state': '', 'area_codes': '512,737 ', 'population': '46,147', 'racial_majority': 'White - 46.69%', 'public_school_racial_majority': 'Hispanic - 86.67%', 'unemployment_rate': '2.7%', 'median_household_income': '$54,422', 'avg_adjusted_gross_income': '$51,230', 'school_test_performance': '', 'avg_commute_time': '', 'time_zone': 'Central Daylight Time', 'elevation_range': '', 'area': '8 Square Miles', 'coordinates': '30.23020554,-97.71463776'}, 'population': {}, 'ethnicity': {'White': '27,297,46.64%', 'Black': '5,124,8.75%', 'Hispanic': '23,184,39.61%', 'Asian': '2,018,3.45%', 'Native American': '838,1.43%', 'Hawaiian/Pac. Islander': '66,0.11%'}, 'school_ethnicity': {'White': '85,3%', 'Black': '223,7.88%', 'Hispanic': '2,477,87.5%', 'Asian': '39,1.38%', 'Native American': '3,0.11%', 'Hawaiian/Pac. Islander': '4,0.14%'}, 'education': {'Less Than 1 Year of College': '1,054,6.22%', 'Bachelor Degree': '3,655,21.58%', 'High School Diploma': '4,161,24.57%', 'No High School Diploma': '310,1.83%', 'GED or Alternate': '1,020,6.02%', '1 or More Years of College': '3,849,22.73%', 'Associates Degree': '1,139,6.73%', 'Masters Degree': '1,294,7.64%', 'Professional Degree': '224,1.32%', 'Doctorate Degree': '223,1.32%'}, 'school': {}, 'income': {}, 'real_estate': {}, 'employment': {}, 'cities': ['Austin'], 'adjacent_zip_codes': ['78701', '78702', '78704', '78721', '78742', '78744'], 'gardening': {}, 'climate': {}, 'cbsa': {}, 'time_zone': {'Time Zone': 'Central Daylight Time', 'IANA Time Zone': 'America/Chicago', 'Follows DST': '', 'GMT Difference': ''}}\n",
      "\n",
      "Data for Zip Code 78729:\n",
      "{'summary': {'zip_code': '78729', 'name': 'Austin', 'type': 'Standard', 'county': 'Williamson County', 'state': '', 'area_codes': '512,737 ', 'population': '30,907', 'racial_majority': 'White - 64.04%', 'public_school_racial_majority': 'White - 36.50%', 'unemployment_rate': '2.7%', 'median_household_income': '$76,615', 'avg_adjusted_gross_income': '$69,750', 'school_test_performance': '', 'avg_commute_time': '', 'time_zone': 'Central Daylight Time', 'elevation_range': '', 'area': '9 Square Miles', 'coordinates': '30.45837784,-97.75759125'}, 'population': {}, 'ethnicity': {'White': '21,547,64.04%', 'Black': '1,896,5.63%', 'Hispanic': '6,183,18.38%', 'Asian': '3,914,11.63%', 'Native American': '107,0.32%', 'Hawaiian/Pac. Islander': '0,0%'}, 'school_ethnicity': {'White': '1,974,38.61%', 'Black': '687,13.44%', 'Hispanic': '1,583,30.96%', 'Asian': '841,16.45%', 'Native American': '23,0.45%', 'Hawaiian/Pac. Islander': '5,0.1%'}, 'education': {'Less Than 1 Year of College': '1,399,7.73%', 'Bachelor Degree': '6,122,33.81%', 'High School Diploma': '2,754,15.21%', 'No High School Diploma': '162,0.89%', 'GED or Alternate': '252,1.39%', '1 or More Years of College': '3,790,20.93%', 'Associates Degree': '1,343,7.42%', 'Masters Degree': '1,690,9.33%', 'Professional Degree': '420,2.32%', 'Doctorate Degree': '170,0.94%'}, 'school': {}, 'income': {}, 'real_estate': {}, 'employment': {}, 'cities': ['Austin'], 'adjacent_zip_codes': ['78681', '78717', '78727', '78728', '78750', '78759'], 'gardening': {}, 'climate': {}, 'cbsa': {}, 'time_zone': {'Time Zone': 'Central Daylight Time', 'IANA Time Zone': 'America/Chicago', 'Follows DST': '', 'GMT Difference': ''}}\n",
      "\n",
      "Data for Zip Code 78748:\n",
      "{'summary': {'zip_code': '78748', 'name': 'Austin', 'type': 'Standard', 'county': 'Travis County', 'state': '', 'area_codes': '512,737 ', 'population': '53,501', 'racial_majority': 'White - 61.39%', 'public_school_racial_majority': 'Hispanic - 64.99%', 'unemployment_rate': '2.7%', 'median_household_income': '$89,480', 'avg_adjusted_gross_income': '$68,540', 'school_test_performance': '', 'avg_commute_time': '', 'time_zone': 'Central Daylight Time', 'elevation_range': '', 'area': '14 Square Miles', 'coordinates': '30.16291237,-97.82289886'}, 'population': {}, 'ethnicity': {'White': '40,507,61.39%', 'Black': '3,276,4.96%', 'Hispanic': '19,473,29.51%', 'Asian': '2,454,3.72%', 'Native American': '278,0.42%', 'Hawaiian/Pac. Islander': '0,0%'}, 'school_ethnicity': {'White': '1,672,23.92%', 'Black': '376,5.38%', 'Hispanic': '4,705,67.32%', 'Asian': '209,2.99%', 'Native American': '15,0.21%', 'Hawaiian/Pac. Islander': '12,0.17%'}, 'education': {'Less Than 1 Year of College': '1,802,7.12%', 'Bachelor Degree': '7,765,30.66%', 'High School Diploma': '4,341,17.14%', 'No High School Diploma': '399,1.58%', 'GED or Alternate': '761,3.01%', '1 or More Years of College': '5,193,20.51%', 'Associates Degree': '1,972,7.79%', 'Masters Degree': '2,572,10.16%', 'Professional Degree': '275,1.09%', 'Doctorate Degree': '238,0.94%'}, 'school': {}, 'income': {}, 'real_estate': {}, 'employment': {}, 'cities': ['Austin', 'Manchaca', 'San Leanna', 'Shady Hollow'], 'adjacent_zip_codes': ['78652', '78739', '78744', '78745', '78747', '78749'], 'gardening': {}, 'climate': {}, 'cbsa': {}, 'time_zone': {'Time Zone': 'Central Daylight Time', 'IANA Time Zone': 'America/Chicago', 'Follows DST': '', 'GMT Difference': ''}}\n",
      "\n",
      "Data for Zip Code 78724:\n",
      "{'summary': {'zip_code': '78724', 'name': 'Austin', 'type': 'Standard', 'county': 'Travis County', 'state': '', 'area_codes': '512,737 ', 'population': '25,936', 'racial_majority': 'Hispanic - 54.74%', 'public_school_racial_majority': 'Hispanic - 63.73%', 'unemployment_rate': '2.7%', 'median_household_income': '$58,631', 'avg_adjusted_gross_income': '$41,250', 'school_test_performance': '', 'avg_commute_time': '', 'time_zone': 'Central Daylight Time', 'elevation_range': '', 'area': '25 Square Miles', 'coordinates': '30.29529381,-97.61280060'}, 'population': {}, 'ethnicity': {'White': '7,706,25.12%', 'Black': '5,717,18.63%', 'Hispanic': '16,746,54.58%', 'Asian': '156,0.51%', 'Native American': '269,0.88%', 'Hawaiian/Pac. Islander': '88,0.29%'}, 'school_ethnicity': {'White': '1,239,14.15%', 'Black': '1,384,15.81%', 'Hispanic': '5,718,65.31%', 'Asian': '381,4.35%', 'Native American': '27,0.31%', 'Hawaiian/Pac. Islander': '6,0.07%'}, 'education': {'Less Than 1 Year of College': '748,10.41%', 'Bachelor Degree': '828,11.52%', 'High School Diploma': '2,638,36.72%', 'No High School Diploma': '266,3.7%', 'GED or Alternate': '529,7.36%', '1 or More Years of College': '1,205,16.77%', 'Associates Degree': '655,9.12%', 'Masters Degree': '234,3.26%', 'Professional Degree': '59,0.82%', 'Doctorate Degree': '18,0.25%'}, 'school': {}, 'income': {}, 'real_estate': {}, 'employment': {}, 'cities': ['Austin', 'Hornsby Bend'], 'adjacent_zip_codes': ['78653', '78721', '78723', '78725', '78754'], 'gardening': {}, 'climate': {}, 'cbsa': {}, 'time_zone': {'Time Zone': 'Central Daylight Time', 'IANA Time Zone': 'America/Chicago', 'Follows DST': '', 'GMT Difference': ''}}\n",
      "\n",
      "Data for Zip Code 78733:\n",
      "{'summary': {'zip_code': '78733', 'name': 'Austin', 'type': 'Standard', 'county': 'Travis County', 'state': '', 'area_codes': '512,737 ', 'population': '9,500', 'racial_majority': 'White - 72.92%', 'public_school_racial_majority': 'White - 59.85%', 'unemployment_rate': '2.7%', 'median_household_income': '$187,778', 'avg_adjusted_gross_income': '$340,180', 'school_test_performance': '', 'avg_commute_time': '', 'time_zone': 'Central Daylight Time', 'elevation_range': '', 'area': '12 Square Miles', 'coordinates': '30.32319450,-97.87820435'}, 'population': {}, 'ethnicity': {'White': '6,951,72.92%', 'Black': '100,1.05%', 'Hispanic': '914,9.59%', 'Asian': '1,567,16.44%', 'Native American': '0,0%', 'Hawaiian/Pac. Islander': '0,0%'}, 'school_ethnicity': {'White': '854,62.84%', 'Black': '15,1.1%', 'Hispanic': '177,13.02%', 'Asian': '312,22.96%', 'Native American': '1,0.07%', 'Hawaiian/Pac. Islander': '0,0%'}, 'education': {'Less Than 1 Year of College': '112,1.89%', 'Bachelor Degree': '2,034,34.31%', 'High School Diploma': '465,7.84%', 'No High School Diploma': '15,0.25%', 'GED or Alternate': '68,1.15%', '1 or More Years of College': '753,12.7%', 'Associates Degree': '293,4.94%', 'Masters Degree': '1,377,23.23%', 'Professional Degree': '536,9.04%', 'Doctorate Degree': '269,4.54%'}, 'school': {}, 'income': {}, 'real_estate': {}, 'employment': {}, 'cities': ['Austin', 'Bee Cave'], 'adjacent_zip_codes': ['78730', '78732', '78735', '78736', '78738', '78746'], 'gardening': {}, 'climate': {}, 'cbsa': {}, 'time_zone': {'Time Zone': 'Central Daylight Time', 'IANA Time Zone': 'America/Chicago', 'Follows DST': '', 'GMT Difference': ''}}\n",
      "\n"
     ]
    }
   ],
   "source": [
    "\n",
    "def get_zip_code_data(zip_codes):\n",
    "    base_url = \"https://zip-code-master.p.rapidapi.com/detail/\"\n",
    "\n",
    "    headers = {\n",
    "        \"X-RapidAPI-Key\": \"558adedba3msh9b5c4fc48b9c426p17c2a9jsnae5efc3a2061\",\n",
    "        \"X-RapidAPI-Host\": \"zip-code-master.p.rapidapi.com\"\n",
    "    }\n",
    "\n",
    "    for zip_code in zip_codes:\n",
    "        url = base_url + str(zip_code)\n",
    "        response = requests.get(url, headers=headers)\n",
    "        data = response.json()\n",
    "        print(f\"Data for Zip Code {zip_code}:\")\n",
    "        print(data)\n",
    "        print()\n",
    "\n",
    "# List of zip codes to fetch data for\n",
    "zip_codes = [78741, 78729, 78748, 78724, 78733]\n",
    "\n",
    "# Call the function to get data for the specified zip codes\n",
    "get_zip_code_data(zip_codes)"
   ]
  },
  {
   "cell_type": "code",
   "execution_count": 8,
   "id": "cb2baa19-4261-4763-b13a-d2b0fe16b361",
   "metadata": {
    "tags": []
   },
   "outputs": [
    {
     "name": "stdout",
     "output_type": "stream",
     "text": [
      "  ZipCode Population MedianHouseholdIncome  \\\n",
      "0   78741     46,147               $54,422   \n",
      "\n",
      "                                           Ethnicity  \\\n",
      "0  {'White': '27,297,46.64%', 'Black': '5,124,8.7...   \n",
      "\n",
      "                                           Education  \n",
      "0  {'Less Than 1 Year of College': '1,054,6.22%',...  \n"
     ]
    }
   ],
   "source": [
    "url = \"https://zip-code-master.p.rapidapi.com/detail/78741\"\n",
    "\n",
    "headers = {\n",
    "    \"X-RapidAPI-Key\": \"558adedba3msh9b5c4fc48b9c426p17c2a9jsnae5efc3a2061\",\n",
    "    \"X-RapidAPI-Host\": \"zip-code-master.p.rapidapi.com\"\n",
    "}\n",
    "\n",
    "response = requests.get(url, headers=headers)\n",
    "data_78741 = response.json()\n",
    "\n",
    "# Extract the subcategories under the \"summary\" header\n",
    "summary_data = data_78741.get(\"summary\", {})\n",
    "\n",
    "# Filter the specific categories for zipcode 78741\n",
    "filtered_data_78741 = {\n",
    "    \"ZipCode\": summary_data.get(\"zip_code\"),\n",
    "    \"Population\": summary_data.get(\"population\"),\n",
    "    \"MedianHouseholdIncome\": summary_data.get(\"median_household_income\"),\n",
    "    \"Ethnicity\": data_78741.get(\"ethnicity\"),\n",
    "    \"Education\": data_78741.get(\"education\"),\n",
    "}\n",
    "\n",
    "# Create a pandas DataFrame from the filtered data\n",
    "zip_78741 = pd.DataFrame([filtered_data_78741])\n",
    "\n",
    "# Now you have the DataFrame zip_78741 with filtered data for zipcode 78741\n",
    "print(zip_78741)\n",
    "\n",
    "# Save the DataFrame to a CSV file in the \"resources\" folder\n",
    "file_name = \"resources/zip_78741.csv\"\n",
    "zip_78741.to_csv(file_name, index=False)"
   ]
  },
  {
   "cell_type": "code",
   "execution_count": 9,
   "id": "ba4bf5dd-ef8f-4a69-9558-ed46e6e9f4f2",
   "metadata": {
    "tags": []
   },
   "outputs": [
    {
     "name": "stdout",
     "output_type": "stream",
     "text": [
      "  ZipCode Population MedianHouseholdIncome  \\\n",
      "0   78729     30,907               $76,615   \n",
      "\n",
      "                                           Ethnicity  \\\n",
      "0  {'White': '21,547,64.04%', 'Black': '1,896,5.6...   \n",
      "\n",
      "                                           Education  \n",
      "0  {'Less Than 1 Year of College': '1,399,7.73%',...  \n"
     ]
    }
   ],
   "source": [
    "url = \"https://zip-code-master.p.rapidapi.com/detail/78729\"\n",
    "\n",
    "headers = {\n",
    "    \"X-RapidAPI-Key\": \"558adedba3msh9b5c4fc48b9c426p17c2a9jsnae5efc3a2061\",\n",
    "    \"X-RapidAPI-Host\": \"zip-code-master.p.rapidapi.com\"\n",
    "}\n",
    "\n",
    "response = requests.get(url, headers=headers)\n",
    "data_78729 = response.json()\n",
    "\n",
    "# Extract the subcategories under the \"summary\" header\n",
    "summary_data1 = data_78729.get(\"summary\", {})\n",
    "\n",
    "# Filter the specific categories for zipcode 78729\n",
    "filtered_data_78729 = {\n",
    "    \"ZipCode\": summary_data1.get(\"zip_code\"),\n",
    "    \"Population\": summary_data1.get(\"population\"),\n",
    "    \"MedianHouseholdIncome\": summary_data1.get(\"median_household_income\"),\n",
    "    \"Ethnicity\": data_78729.get(\"ethnicity\"),\n",
    "    \"Education\": data_78729.get(\"education\"),\n",
    "}\n",
    "\n",
    "# Create a pandas DataFrame from the filtered data\n",
    "zip_78729 = pd.DataFrame([filtered_data_78729])\n",
    "\n",
    "# Now you have the DataFrame zip_78729 with filtered data for zipcode 78729\n",
    "print(zip_78729)\n",
    "\n",
    "# Save the DataFrame to a CSV file in the \"resources\" folder\n",
    "file_name = \"resources/zip_78729.csv\"\n",
    "zip_78729.to_csv(file_name, index=False)"
   ]
  },
  {
   "cell_type": "code",
   "execution_count": 10,
   "id": "47cc494f-34fc-457a-bb03-9e8646d13472",
   "metadata": {
    "tags": []
   },
   "outputs": [
    {
     "name": "stdout",
     "output_type": "stream",
     "text": [
      "  ZipCode Population MedianHouseholdIncome  \\\n",
      "0   78748     53,501               $89,480   \n",
      "\n",
      "                                           Ethnicity  \\\n",
      "0  {'White': '40,507,61.39%', 'Black': '3,276,4.9...   \n",
      "\n",
      "                                           Education  \n",
      "0  {'Less Than 1 Year of College': '1,802,7.12%',...  \n"
     ]
    }
   ],
   "source": [
    "url = \"https://zip-code-master.p.rapidapi.com/detail/78748\"\n",
    "\n",
    "headers = {\n",
    "    \"X-RapidAPI-Key\": \"558adedba3msh9b5c4fc48b9c426p17c2a9jsnae5efc3a2061\",\n",
    "    \"X-RapidAPI-Host\": \"zip-code-master.p.rapidapi.com\"\n",
    "}\n",
    "\n",
    "response = requests.get(url, headers=headers)\n",
    "data_78748 = response.json()\n",
    "\n",
    "# Extract the subcategories under the \"summary\" header\n",
    "summary_data2 = data_78748.get(\"summary\", {})\n",
    "\n",
    "# Filter the specific categories for zipcode 78748\n",
    "filtered_data_78748 = {\n",
    "    \"ZipCode\": summary_data2.get(\"zip_code\"),\n",
    "    \"Population\": summary_data2.get(\"population\"),\n",
    "    \"MedianHouseholdIncome\": summary_data2.get(\"median_household_income\"),\n",
    "    \"Ethnicity\": data_78748.get(\"ethnicity\"),\n",
    "    \"Education\": data_78748.get(\"education\"),\n",
    "}\n",
    "\n",
    "# Create a pandas DataFrame from the filtered data\n",
    "zip_78748 = pd.DataFrame([filtered_data_78748])\n",
    "\n",
    "# Now you have the DataFrame zip_78748 with filtered data for zipcode 78748\n",
    "print(zip_78748)\n",
    "\n",
    "# Save the DataFrame to a CSV file in the \"resources\" folder\n",
    "file_name = \"resources/zip_78748.csv\"\n",
    "zip_78748.to_csv(file_name, index=False)"
   ]
  },
  {
   "cell_type": "code",
   "execution_count": 11,
   "id": "50eb8d73-8df1-49c4-b1f0-06b8f6e61d60",
   "metadata": {
    "tags": []
   },
   "outputs": [
    {
     "name": "stdout",
     "output_type": "stream",
     "text": [
      "  ZipCode Population MedianHouseholdIncome  \\\n",
      "0   78724     25,936               $58,631   \n",
      "\n",
      "                                           Ethnicity  \\\n",
      "0  {'White': '7,706,25.12%', 'Black': '5,717,18.6...   \n",
      "\n",
      "                                           Education  \n",
      "0  {'Less Than 1 Year of College': '748,10.41%', ...  \n"
     ]
    }
   ],
   "source": [
    "url = \"https://zip-code-master.p.rapidapi.com/detail/78724\"\n",
    "\n",
    "headers = {\n",
    "    \"X-RapidAPI-Key\": \"558adedba3msh9b5c4fc48b9c426p17c2a9jsnae5efc3a2061\",\n",
    "    \"X-RapidAPI-Host\": \"zip-code-master.p.rapidapi.com\"\n",
    "}\n",
    "\n",
    "response = requests.get(url, headers=headers)\n",
    "data_78724 = response.json()\n",
    "\n",
    "# Extract the subcategories under the \"summary\" header\n",
    "summary_data3 = data_78724.get(\"summary\", {})\n",
    "\n",
    "# Filter the specific categories for zipcode 78724\n",
    "filtered_data_78724 = {\n",
    "    \"ZipCode\": summary_data3.get(\"zip_code\"),\n",
    "    \"Population\": summary_data3.get(\"population\"),\n",
    "    \"MedianHouseholdIncome\": summary_data3.get(\"median_household_income\"),\n",
    "    \"Ethnicity\": data_78724.get(\"ethnicity\"),\n",
    "    \"Education\": data_78724.get(\"education\"),\n",
    "}\n",
    "\n",
    "# Create a pandas DataFrame from the filtered data\n",
    "zip_78724 = pd.DataFrame([filtered_data_78724])\n",
    "\n",
    "# Now you have the DataFrame zip_78724 with filtered data for zipcode 78724\n",
    "print(zip_78724)\n",
    "\n",
    "# Save the DataFrame to a CSV file in the \"resources\" folder\n",
    "file_name = \"resources/zip_78724.csv\"\n",
    "zip_78724.to_csv(file_name, index=False)"
   ]
  },
  {
   "cell_type": "code",
   "execution_count": 12,
   "id": "948de08b-bab3-44cf-969f-00361a37fa32",
   "metadata": {
    "tags": []
   },
   "outputs": [
    {
     "name": "stdout",
     "output_type": "stream",
     "text": [
      "  ZipCode Population MedianHouseholdIncome  \\\n",
      "0   78733      9,500              $187,778   \n",
      "\n",
      "                                           Ethnicity  \\\n",
      "0  {'White': '6,951,72.92%', 'Black': '100,1.05%'...   \n",
      "\n",
      "                                           Education  \n",
      "0  {'Less Than 1 Year of College': '112,1.89%', '...  \n"
     ]
    }
   ],
   "source": [
    "url = \"https://zip-code-master.p.rapidapi.com/detail/78733\"\n",
    "\n",
    "headers = {\n",
    "    \"X-RapidAPI-Key\": \"558adedba3msh9b5c4fc48b9c426p17c2a9jsnae5efc3a2061\",\n",
    "    \"X-RapidAPI-Host\": \"zip-code-master.p.rapidapi.com\"\n",
    "}\n",
    "\n",
    "response = requests.get(url, headers=headers)\n",
    "data_78733 = response.json()\n",
    "\n",
    "# Extract the subcategories under the \"summary\" header\n",
    "summary_data4 = data_78733.get(\"summary\", {})\n",
    "\n",
    "# Filter the specific categories for zipcode 78733\n",
    "filtered_data_78733 = {\n",
    "    \"ZipCode\": summary_data4.get(\"zip_code\"),\n",
    "    \"Population\": summary_data4.get(\"population\"),\n",
    "    \"MedianHouseholdIncome\": summary_data4.get(\"median_household_income\"),\n",
    "    \"Ethnicity\": data_78733.get(\"ethnicity\"),\n",
    "    \"Education\": data_78733.get(\"education\"),\n",
    "}\n",
    "\n",
    "# Create a pandas DataFrame from the filtered data\n",
    "zip_78733 = pd.DataFrame([filtered_data_78733])\n",
    "\n",
    "# Now you have the DataFrame zip_78733 with filtered data for zipcode 78733\n",
    "print(zip_78733)\n",
    "\n",
    "# Save the DataFrame to a CSV file in the \"resources\" folder\n",
    "file_name = \"resources/zip_78733.csv\"\n",
    "zip_78733.to_csv(file_name, index=False)"
   ]
  },
  {
   "cell_type": "code",
   "execution_count": null,
   "id": "722b778a-ea07-4dd2-9701-c317281f5692",
   "metadata": {},
   "outputs": [],
   "source": []
  }
 ],
 "metadata": {
  "kernelspec": {
   "display_name": "Python 3 (ipykernel)",
   "language": "python",
   "name": "python3"
  },
  "language_info": {
   "codemirror_mode": {
    "name": "ipython",
    "version": 3
   },
   "file_extension": ".py",
   "mimetype": "text/x-python",
   "name": "python",
   "nbconvert_exporter": "python",
   "pygments_lexer": "ipython3",
   "version": "3.10.9"
  }
 },
 "nbformat": 4,
 "nbformat_minor": 5
}
